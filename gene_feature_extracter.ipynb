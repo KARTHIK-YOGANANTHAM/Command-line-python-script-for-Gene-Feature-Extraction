{
  "nbformat": 4,
  "nbformat_minor": 0,
  "metadata": {
    "colab": {
      "provenance": []
    },
    "kernelspec": {
      "name": "python3",
      "display_name": "Python 3"
    },
    "language_info": {
      "name": "python"
    }
  },
  "cells": [
    {
      "cell_type": "markdown",
      "source": [
        "# **Gene Feature Extraction from FASTA sequence**"
      ],
      "metadata": {
        "id": "KMfx43CpUZ96"
      }
    },
    {
      "cell_type": "markdown",
      "source": [
        "This project involves the development of a command-line Python script designed for gene feature extraction from **FASTA** sequence data. The tool supports multi-sequence FASTA inputs and performs key computations such as sequence length, GC/AT content, and **open reading frame (ORF)** detection. Additionally, it provides an option to visualize ORFs graphically and export results to CSV format upon user prompt. This script serves as a lightweight, modular bioinformatics utility for preliminary sequence analysis, particularly useful in genomic data preprocessing workflows.\n",
        "\n",
        "\n"
      ],
      "metadata": {
        "id": "8imzDczpTkbJ"
      }
    },
    {
      "cell_type": "markdown",
      "source": [
        "### **Install Biopython v-1.85**"
      ],
      "metadata": {
        "id": "SIwXcFT8U3Od"
      }
    },
    {
      "cell_type": "markdown",
      "source": [
        "This command line python script requires biopython to be preinstalled for the proceedings.  Make sure it enabled.\n",
        "\n",
        "\n",
        "*  If you face an error of package \"**Bio**\" not found, install biopython through the below command :\n",
        "\n"
      ],
      "metadata": {
        "id": "dsbJrRJ_T5MS"
      }
    },
    {
      "cell_type": "code",
      "source": [
        "# pip install biopython"
      ],
      "metadata": {
        "id": "I2bLf3TDq8Cb"
      },
      "execution_count": null,
      "outputs": []
    },
    {
      "cell_type": "markdown",
      "source": [
        "Print precaution errors"
      ],
      "metadata": {
        "id": "fld0YuU1_hO5"
      }
    },
    {
      "cell_type": "code",
      "source": [
        "print(\"## This software requires biopython pre-installed for running....⏳\")\n",
        "print(\"Install Biopython by 'pip install biopython' (If you face an error of package 'Bio' not found)...\")"
      ],
      "metadata": {
        "colab": {
          "base_uri": "https://localhost:8080/"
        },
        "id": "NE6DZBga_oVm",
        "outputId": "3a46cd48-f6a0-4e0c-c707-9661271672f5"
      },
      "execution_count": 43,
      "outputs": [
        {
          "output_type": "stream",
          "name": "stdout",
          "text": [
            "## This software requires biopython pre-installed for running....⏳\n",
            "Install Biopython by 'pip install biopython' (If you face an error of package 'Bio' not found)...\n"
          ]
        }
      ]
    },
    {
      "cell_type": "markdown",
      "source": [
        "### **Install Dependencies**"
      ],
      "metadata": {
        "id": "ZWaxwF1nUZaW"
      }
    },
    {
      "cell_type": "code",
      "source": [
        "from Bio import SeqIO\n",
        "from Bio.Seq import Seq\n",
        "import sys\n",
        "import re\n",
        "import csv"
      ],
      "metadata": {
        "id": "e7R0t677VA6p"
      },
      "execution_count": 31,
      "outputs": []
    },
    {
      "cell_type": "markdown",
      "source": [
        "### **Print Header of CLI**"
      ],
      "metadata": {
        "id": "5FALWf6AUnEj"
      }
    },
    {
      "cell_type": "code",
      "source": [
        "print(\"\\n\")\n",
        "print(\"---------------------------------------------------\")\n",
        "print(\"\\n\")\n",
        "print(\"Welcome to Gene Feature Extractor Software👨‍🔬\")\n",
        "print(\"🧬 Gene Feature Extractor Started...\\n\")\n",
        "print(\"---------------------------------------------------\")"
      ],
      "metadata": {
        "id": "FXtb6QL7mw8K",
        "colab": {
          "base_uri": "https://localhost:8080/"
        },
        "outputId": "2836c9e6-dcb6-47c4-96d1-38fe663a225c"
      },
      "execution_count": 32,
      "outputs": [
        {
          "output_type": "stream",
          "name": "stdout",
          "text": [
            "🧬 Gene Feature Extractor Started...\n",
            "\n"
          ]
        }
      ]
    },
    {
      "cell_type": "markdown",
      "source": [
        "### **Function for nucleotide content calculation**"
      ],
      "metadata": {
        "id": "bmly3Cn6VMi0"
      }
    },
    {
      "cell_type": "code",
      "source": [
        "def calculate_nucleotide_content(seq):\n",
        "  length = len(seq)\n",
        "  content = {\n",
        "      \"A\" : round( (seq.count(\"A\") / length) * 100 , 2 ),\n",
        "      \"T\" : round( (seq.count(\"T\") / length) * 100 , 2 ),\n",
        "      \"G\" : round( (seq.count(\"G\") / length) * 100 , 2 ),\n",
        "      \"C\" : round( (seq.count(\"C\") / length) * 100 , 2 ),\n",
        "      \"GC_content\": round( ( ( seq.count(\"G\") + seq.count(\"C\")) / length) * 100, 2)\n",
        "  }\n",
        "  return content"
      ],
      "metadata": {
        "id": "5doOJJFVVMLI"
      },
      "execution_count": 33,
      "outputs": []
    },
    {
      "cell_type": "markdown",
      "source": [
        "### **To Find the ORF Region**"
      ],
      "metadata": {
        "id": "UKJ28FtRV6MZ"
      }
    },
    {
      "cell_type": "markdown",
      "source": [
        "REASON FOR ORF<30 :\n",
        "  1. Biological Justification:\n",
        "\n",
        "     - A codon = 3 bases, so 30 bases = 10 amino acids.\n",
        "\n",
        "     - Most functional proteins are longer than 10 amino acids.\n",
        "\n",
        "     - Very short ORFs (<30 bp) are often:\n",
        "\n",
        "     - False positives (random ATG...TAA).\n",
        "\n",
        "     - Non-functional peptides.\n",
        "\n",
        "     - Unlikely to encode real proteins.\n",
        "\n",
        "\n",
        "  2. Computational Justification:\n",
        "      \n",
        "      - Reduces noise from spurious tiny ORFs.\n",
        "\n",
        "      - Improves performance and result relevance.\n",
        "\n",
        "      - It's a customizable threshold — users can adjust if they want to study short peptides"
      ],
      "metadata": {
        "id": "MXr2KYv2U-yQ"
      }
    },
    {
      "cell_type": "code",
      "source": [
        "def find_orf(seq, min_orf_length = 30):\n",
        "  orf = []\n",
        "  start_codon = \"ATG\"\n",
        "  stop_codons = [\"TAA\", \"TAG\", \"TGA\"]\n",
        "\n",
        "  for frame in range(3):\n",
        "    i = frame\n",
        "    while i < len(seq) - 3:\n",
        "      codon = seq[ i:i + 3]\n",
        "      if codon == start_codon:\n",
        "        for j in range(i + 3, len(seq) - 2, 3):\n",
        "          stop_codon = seq[j : j +3]\n",
        "          if stop_codon in stop_codons:\n",
        "            orf_seq = seq[i:j + 3 ]\n",
        "            if len(orf_seq) >= min_orf_length:\n",
        "              orf.append({\n",
        "                  \"frame\" : frame + 1,\n",
        "                  \"start\" : i+1,\n",
        "                  \"end\" : j + 3,\n",
        "                  \"length\" : j+3 - i,\n",
        "                  \"sequence\" : orf_seq\n",
        "              } )\n",
        "            i = j +3\n",
        "            break\n",
        "      i += 3\n",
        "  return orf"
      ],
      "metadata": {
        "id": "6bge5A-TV_UE"
      },
      "execution_count": 34,
      "outputs": []
    },
    {
      "cell_type": "markdown",
      "source": [
        "### **To extract Upstream and downstream region**\n"
      ],
      "metadata": {
        "id": "VvbVRUewXpUL"
      }
    },
    {
      "cell_type": "code",
      "source": [
        "def extract_upstream_downstream(seq, start, end, size = 50):\n",
        "  upstream = seq[ max(0, start - size -1): start-1]\n",
        "  downstream = seq[end:end + size]\n",
        "  return upstream, downstream"
      ],
      "metadata": {
        "id": "lSedPLRUXtTJ"
      },
      "execution_count": 35,
      "outputs": []
    },
    {
      "cell_type": "markdown",
      "source": [
        "### **To search promotor region**"
      ],
      "metadata": {
        "id": "K6xO-OQXYCko"
      }
    },
    {
      "cell_type": "code",
      "source": [
        "def search_promotor(upstream_seq):\n",
        "  motifs = {\n",
        "      \"-10_box (TATAAT)\": re.search(\"TATAAT\", upstream_seq),\n",
        "      \"-35_box (TTGACA)\": re.search(\"TTGACA\", upstream_seq),\n",
        "      \"Shine-Dalgarno (AGGAGG)\" : re.search(\"AGGAGG\", upstream_seq)\n",
        "  }\n",
        "\n",
        "  return {k: (\"Found\" if v else \"Not Available\") for k, v in motifs.items()}"
      ],
      "metadata": {
        "id": "uxLT1snxYFns"
      },
      "execution_count": 36,
      "outputs": []
    },
    {
      "cell_type": "markdown",
      "source": [
        "### **To display ORF mapping**"
      ],
      "metadata": {
        "id": "AI1Nir0My8iT"
      }
    },
    {
      "cell_type": "code",
      "source": [
        "def display_orf_map(seq_len, orf):\n",
        "  bar = [\" . \"] * seq_len\n",
        "  for orf in orf:\n",
        "    for i in range(orf['start'] - 1, orf['end']):\n",
        "      bar[i] = '#'\n",
        "  return ''.join(bar[:100]) + (\"...\" if seq_len > 100 else \"\")"
      ],
      "metadata": {
        "id": "PpGRvRIAy_Ba"
      },
      "execution_count": 37,
      "outputs": []
    },
    {
      "cell_type": "markdown",
      "source": [
        "### **Analysze FASTA input file**"
      ],
      "metadata": {
        "id": "F-QjazWLZBlY"
      }
    },
    {
      "cell_type": "code",
      "source": [
        "def analyze_fasta(file_path):\n",
        "  results = []\n",
        "  for record in SeqIO.parse(file_path, \"fasta\"):\n",
        "    seq_id = record.id\n",
        "    sequence = str(record.seq).upper()\n",
        "    orfs = find_orf(sequence)\n",
        "    print(f\"\\n🧬 Sequence ID: {seq_id} | Length : {len(sequence)} bp | ORFs Found : {len(orfs)}\")\n",
        "\n",
        "    if not orfs:\n",
        "      print(\"No ORFs found.\")\n",
        "      continue\n",
        "\n",
        "    print(\"ORF Map (first 100 bp shown) : \" )\n",
        "    print(display_orf_map(len(sequence), orfs))\n",
        "\n",
        "    for idx, orf in enumerate(orfs, 1):\n",
        "      content = calculate_nucleotide_content(orf['sequence'])\n",
        "      upstream, downstream = extract_upstream_downstream(sequence, orf['start'], orf['end'])\n",
        "      motifs = search_promotor(upstream)\n",
        "\n",
        "      print(f\"\\n---# ORF {idx} # ---\")\n",
        "      print(f\"Start-End         : {orf['start']} - {orf['end']}\")\n",
        "      print(f\"Length            : {orf['length']} bp | Frame: {orf['frame']}\")\n",
        "      print(f\"ATGC Content %    : A: {content['A']}% | T: {content['T']}% | G: {content['G']}% | C: {content['C']}%\")\n",
        "      print(f\"GC Content %      : {content['GC_content']}%\")\n",
        "      print(f\"Upstream (50bp)   : {upstream if upstream else 'Not Available'}\")\n",
        "      print(f\"Downstream (50bp) : {downstream if downstream else 'Not Available'} \")\n",
        "\n",
        "      for name, status in motifs.items():\n",
        "        print(f\"{name:25} : {status}\")\n",
        "\n",
        "      results.append({\n",
        "          \"Sequence_ID\" : seq_id,\n",
        "          \"ORF_ Number\" : idx,\n",
        "          \"Start\" : orf['start'],\n",
        "          \"End\" : orf['end'],\n",
        "          \"Length\" : orf['length'],\n",
        "          \"Frame\" : orf['frame'],\n",
        "          \"GC_Content\" : content['GC_content'],\n",
        "          \"-10_box (TATAAT)\" : motifs[\"-10_box (TATAAT)\"],\n",
        "          \"-35_box (TTGACA)\" : motifs[\"-35_box (TTGACA)\"],\n",
        "          \"Shine-Dalgarno (AGGAGG)\" : motifs[\"Shine-Dalgarno (AGGAGG)\"]\n",
        "      })\n",
        "\n",
        "  return results\n",
        "\n"
      ],
      "metadata": {
        "id": "poKw_oxuYeQH"
      },
      "execution_count": 41,
      "outputs": []
    },
    {
      "cell_type": "markdown",
      "source": [
        "### **Save file as CSV**"
      ],
      "metadata": {
        "id": "ZnmwEZUY4pCJ"
      }
    },
    {
      "cell_type": "code",
      "source": [
        "def prompt_csv(results):\n",
        "  choice = input(\"\\n💾 Do you want to save the results to a CSV file? (y/n): \").strip().lower()\n",
        "\n",
        "  if choice == \"y\":\n",
        "    outname = \"analyze_results.csv\"\n",
        "    keys = results [0].keys()\n",
        "\n",
        "    with open(outname, \"w\", newline = '') as f:\n",
        "      writer = csv.DictWriter(f, fieldnames = keys)\n",
        "      writer.writeheader()\n",
        "      writer.writerows(results)\n",
        "\n",
        "    print(f\"✅ Results saved to: {outname}\")\n",
        "    print(f\"\\nThanks for using our software✨\")\n",
        "    print(f\"\\n©️Rights owned by KARTHIK YOGANANTHAM\")\n",
        "    print(f\"\\n⭕Follow on Github : @KARTHIK-YOGANANTHAM\")\n",
        "\n",
        "  else:\n",
        "    print(\"❎ Skipped saving CSV.\")\n",
        "    print(f\"\\nThanks for using our software✨\")\n",
        "    print(f\"\\n©️Rights owned by KARTHIK YOGANANTHAM\")\n",
        "    print(f\"\\n⭕Follow on Github : @KARTHIK-YOGANANTHAM\")\n",
        "\n"
      ],
      "metadata": {
        "id": "e24npDs4Z7ze"
      },
      "execution_count": 22,
      "outputs": []
    },
    {
      "cell_type": "markdown",
      "source": [
        "### **Execute the Input File**"
      ],
      "metadata": {
        "id": "heB6chHe6QP_"
      }
    },
    {
      "cell_type": "code",
      "source": [
        "if __name__ == \"__main__\":\n",
        "  if len(sys.argv) != 2:\n",
        "    print(\"Usage : python gene_feature_extractor.py <input.fasta>\")\n",
        "    sys.exit(1)\n",
        "\n",
        "  fasta_file = sys.argv[1]\n",
        "  data = analyze_fasta(fasta_file)\n",
        "  if data:\n",
        "    prompt_csv(data)\n",
        "  else:\n",
        "    print(\"⚠️ No ORFs detected in any sequence✨\")\n",
        "    print(f\"\\nThanks for using our software\")\n",
        "    print(f\"\\©️Rights owned by KARTHIK YOGANANTHAM\")\n",
        "    print(f\"\\n⭕Follow on Github : @KARTHIK-YOGANANTHAM\")"
      ],
      "metadata": {
        "colab": {
          "base_uri": "https://localhost:8080/",
          "height": 106
        },
        "id": "soo1flyz6S1w",
        "outputId": "b76da406-4de6-4885-eccc-499dc29db5a1"
      },
      "execution_count": 21,
      "outputs": [
        {
          "output_type": "stream",
          "name": "stdout",
          "text": [
            "Usage : python gene_feature_extractor.py <input.fasta>\n"
          ]
        },
        {
          "output_type": "error",
          "ename": "SystemExit",
          "evalue": "1",
          "traceback": [
            "An exception has occurred, use %tb to see the full traceback.\n",
            "\u001b[0;31mSystemExit\u001b[0m\u001b[0;31m:\u001b[0m 1\n"
          ]
        }
      ]
    },
    {
      "cell_type": "markdown",
      "source": [
        "### **Conclusion**"
      ],
      "metadata": {
        "id": "ZIvmVIZGWGvf"
      }
    },
    {
      "cell_type": "markdown",
      "source": [
        "This Python-based tool was developed to automate the extraction of gene features from DNA sequences provided in a FASTA file. The key focus was on identifying Open Reading Frames (ORFs), exploring their genomic context, and mapping functional regulatory motifs.\n",
        "\n",
        "🔍 Key Functionalities:\n",
        "- Multi-sequence support for batch analysis of FASTA files.\n",
        "\n",
        "- ORF detection based on biological start (ATG) and stop codons (TAA, TAG, TGA).\n",
        "\n",
        "- Nucleotide composition (%A, T, G, C and GC content) within coding regions.\n",
        "\n",
        "- Extraction of upstream/downstream sequences for regulatory analysis.\n",
        "\n",
        "- Motif identification including:\n",
        "\n",
        "- -10 box (TATAAT)\n",
        "\n",
        "- -35 box (TTGACA)\n",
        "\n",
        "- Shine-Dalgarno sequence (AGGAGG)\n",
        "\n",
        "- ASCII-based ORF visualization to map coding regions within sequences.\n",
        "\n",
        "- Optional CSV export of annotated results."
      ],
      "metadata": {
        "id": "NT7Ds_H7WZ-J"
      }
    },
    {
      "cell_type": "markdown",
      "source": [
        "### **Contact the developer**"
      ],
      "metadata": {
        "id": "UE0bqbmHWnMz"
      }
    },
    {
      "cell_type": "markdown",
      "source": [
        "This command line python script was developed by Karthik Yoganantham, a Post graduate biotechnology aspirant willing to combine biological insights with computational resources\n",
        "\n",
        "For more information Please visit [my website⏏️](https://karthikyoganantham.framer.website/)\n",
        "\n",
        "- Mail : karthikyoganantham@gmail.com\n",
        "\n",
        "- Mobile : +91 93841 42469\n",
        "\n",
        "- Linkedin : https://www.linkedin.com/in/karthik-yoganantham/\n",
        "\n",
        "- Github : https://github.com/KARTHIK-YOGANANTHAM"
      ],
      "metadata": {
        "id": "-SYoiZ8-WuVs"
      }
    }
  ]
}